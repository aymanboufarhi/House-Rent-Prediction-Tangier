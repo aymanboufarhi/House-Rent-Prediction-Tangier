{
  "cells": [
    {
      "cell_type": "markdown",
      "source": [
        "# **Estimation des prix de location ( My Dayf )**"
      ],
      "metadata": {
        "id": "5XRZvvWCz_zz"
      },
      "id": "5XRZvvWCz_zz"
    },
    {
      "cell_type": "markdown",
      "source": [
        "## 1- Scrapping :"
      ],
      "metadata": {
        "id": "Owm9MIj0z_xR"
      },
      "id": "Owm9MIj0z_xR"
    },
    {
      "cell_type": "markdown",
      "source": [
        "Scrapping the website mubawab :"
      ],
      "metadata": {
        "id": "haF4YIDA2vmp"
      },
      "id": "haF4YIDA2vmp"
    },
    {
      "cell_type": "code",
      "source": [
        "import requests\n",
        "from bs4 import BeautifulSoup\n",
        "import pandas as pd\n",
        "import re\n",
        "\n",
        "# Function to clean text data\n",
        "def clean_text(text):\n",
        "    text = text.replace('\\n', ' ').replace('\\t', ' ').strip()\n",
        "    return text\n",
        "\n",
        "# Function to extract numbers from text\n",
        "def extract_numbers(text):\n",
        "    # Use regular expressions to extract numbers\n",
        "    numbers = re.findall(r'\\d+', text)\n",
        "    return ' '.join(numbers)\n",
        "\n",
        "# Function to scrape data from a single property URL\n",
        "def scrape_property_details(url):\n",
        "    response = requests.get(url)\n",
        "    soup = BeautifulSoup(response.content, 'html.parser')\n",
        "\n",
        "    # Scrape data from div with class 'mainInfoProp'\n",
        "    main_info = soup.find('div', class_='mainInfoProp')\n",
        "\n",
        "    # Check if 'mainInfoProp' exists\n",
        "    if not main_info:\n",
        "        return None  # Skip if the property structure is different\n",
        "\n",
        "    # Extract the relevant details and handle missing data by setting \"NULL\"\n",
        "    try:\n",
        "        prix = extract_numbers(clean_text(main_info.find('h3', class_='orangeTit').text))\n",
        "        if not prix:\n",
        "            prix = \"NULL\"\n",
        "    except:\n",
        "        prix = 'NULL'\n",
        "\n",
        "    try:\n",
        "        emplacement = clean_text(main_info.find('h3', class_='greyTit').text)\n",
        "        if not emplacement:\n",
        "            emplacement = \"NULL\"\n",
        "    except:\n",
        "        emplacement = 'NULL'\n",
        "\n",
        "    try:\n",
        "        surface = extract_numbers(clean_text(main_info.find('div', class_='disFlex adDetails').find('span').text))\n",
        "        if not surface:\n",
        "            surface = \"NULL\"\n",
        "    except:\n",
        "        surface = 'NULL'\n",
        "\n",
        "    # Now extract 'piece', 'chambre', and 'salle de bain'\n",
        "    piece = chambre = salle_de_bain = 'NULL'  # Default value if not found\n",
        "\n",
        "    # Find the div containing property details\n",
        "    try:\n",
        "        property_details_div = main_info.find('div', class_='disFlex adDetails')\n",
        "\n",
        "        if property_details_div:\n",
        "            # Look for labels like 'Pièces', 'Chambre', 'Salles de bains', etc.\n",
        "            details = property_details_div.find_all('div')\n",
        "\n",
        "            for detail in details:\n",
        "                text = clean_text(detail.text)\n",
        "\n",
        "                if 'Pièces' in text or 'Pièce' in text:\n",
        "                    piece = extract_numbers(text)\n",
        "\n",
        "                if 'Chambres' in text or 'Chambre' in text:\n",
        "                    chambre = extract_numbers(text)\n",
        "\n",
        "                if 'Salles de bains' in text or 'Salle de bain' in text:\n",
        "                    salle_de_bain = extract_numbers(text)\n",
        "\n",
        "    except:\n",
        "        pass\n",
        "\n",
        "    return {\n",
        "        'prix en MAD': prix,\n",
        "        'emplacement': emplacement,\n",
        "        'surface en m²': surface,\n",
        "        'nombre des pièces': piece,\n",
        "        'nombre des chambres': chambre,\n",
        "        'salle_de_bain': salle_de_bain\n",
        "    }\n",
        "\n",
        "# Function to extract all the links from the main page\n",
        "def get_property_links(main_url):\n",
        "    response = requests.get(main_url)\n",
        "    soup = BeautifulSoup(response.content, 'html.parser')\n",
        "\n",
        "    # Find the ul with class 'ulListing'\n",
        "    listing_ul = soup.find('ul', class_='ulListing')\n",
        "\n",
        "    # List to hold the property links\n",
        "    property_links = []\n",
        "\n",
        "    if listing_ul:\n",
        "        # Find all li elements inside the ul\n",
        "        listings = listing_ul.find_all('li')\n",
        "\n",
        "        # Loop over each li and extract the 'linkref' attribute\n",
        "        for listing in listings:\n",
        "            linkref = listing.get('linkref')\n",
        "            if linkref:\n",
        "                property_links.append(linkref)\n",
        "\n",
        "    return property_links\n",
        "\n",
        "# Base URL of the listing page\n",
        "base_url = \"https://www.mubawab.ma/fr/st/tanger/appartements-a-louer\"\n",
        "\n",
        "# List to hold all property links\n",
        "all_property_links = []\n",
        "\n",
        "# Loop through pages 1 to 56\n",
        "for page_number in range(1, 57):\n",
        "    if page_number == 1:\n",
        "        main_url = base_url\n",
        "    else:\n",
        "        main_url = f\"{base_url}:p:{page_number}\"\n",
        "\n",
        "    # Get all property links from the listing page\n",
        "    property_links = get_property_links(main_url)\n",
        "    all_property_links.extend(property_links)\n",
        "\n",
        "# Initialize an empty list to store all the scraped data\n",
        "all_data = []\n",
        "\n",
        "# Loop through each property link and scrape the details\n",
        "for link in all_property_links:\n",
        "    property_data = scrape_property_details(link)  # Use link directly\n",
        "    if property_data:  # Only append if data was successfully scraped\n",
        "        all_data.append(property_data)\n",
        "\n",
        "# Create a pandas DataFrame to store the data\n",
        "df = pd.DataFrame(all_data)\n",
        "\n",
        "# Clean the DataFrame if needed\n",
        "for column in df.columns:\n",
        "    df[column] = df[column].map(clean_text)\n",
        "\n",
        "# Remove extra spaces in the 'emplacement' column\n",
        "df['emplacement'] = df['emplacement'].str.replace(r'\\s+', ' ', regex=True)\n",
        "\n",
        "# Optionally, append to CSV if the file already exists\n",
        "df.to_csv('scraped_properties_data_tanger.csv', encoding='windows-1252', index=False)"
      ],
      "metadata": {
        "id": "qphLjV5Cz_aW"
      },
      "id": "qphLjV5Cz_aW",
      "execution_count": null,
      "outputs": []
    },
    {
      "cell_type": "code",
      "source": [
        "import pandas as pd\n",
        "import numpy as np\n",
        "import seaborn as sns\n",
        "import matplotlib.pyplot as plt\n",
        "import math\n",
        "from sklearn.impute import KNNImputer\n",
        "from sklearn.model_selection import train_test_split\n",
        "from sklearn.preprocessing import StandardScaler, MinMaxScaler, PolynomialFeatures\n",
        "from sklearn.pipeline import Pipeline\n",
        "from sklearn.ensemble import GradientBoostingRegressor\n",
        "from sklearn.metrics import mean_squared_error, r2_score"
      ],
      "metadata": {
        "id": "e7Fp5iIpz_XW"
      },
      "id": "e7Fp5iIpz_XW",
      "execution_count": null,
      "outputs": []
    },
    {
      "cell_type": "markdown",
      "source": [
        "## 2-  Data preprocessing :"
      ],
      "metadata": {
        "id": "biNlBHYaz_s_"
      },
      "id": "biNlBHYaz_s_"
    },
    {
      "cell_type": "markdown",
      "source": [
        "Delete rows with 0 in \"prix en MAD\" column"
      ],
      "metadata": {
        "id": "SGX0MYlY9vPN"
      },
      "id": "SGX0MYlY9vPN"
    },
    {
      "cell_type": "code",
      "source": [
        "df = pd.read_csv(r'o.csv', encoding='windows-1252')\n",
        "df = df[df['prix en MAD'] != 0]"
      ],
      "metadata": {
        "id": "g8RS2riP9pzu"
      },
      "id": "g8RS2riP9pzu",
      "execution_count": null,
      "outputs": []
    },
    {
      "cell_type": "markdown",
      "source": [
        "Coding the categorical attribute 'emplacement'"
      ],
      "metadata": {
        "id": "A-qUGN3Z-HOc"
      },
      "id": "A-qUGN3Z-HOc"
    },
    {
      "cell_type": "code",
      "source": [
        "l = list(df['emplacement'].unique())\n",
        "n = len(l)\n",
        "code = {l[i]: i for i in range(n)}\n",
        "df['emplacementMap'] = df['emplacement'].map(code)\n",
        "df2 = df.drop(columns=['emplacement'], axis=1)\n",
        "\n",
        "emplacement_id = {'emplacement': list(code.keys()), 'id': list(code.values())}\n",
        "emplacement_id = pd.DataFrame(data=emplacement_id)\n",
        "emplacement_id.to_csv('emplacement_id.csv', index=False)"
      ],
      "metadata": {
        "id": "HEELfFXj9pwF"
      },
      "id": "HEELfFXj9pwF",
      "execution_count": null,
      "outputs": []
    },
    {
      "cell_type": "markdown",
      "source": [
        "Handling missing values using KNN imputer"
      ],
      "metadata": {
        "id": "CfSFCqRR-W_L"
      },
      "id": "CfSFCqRR-W_L"
    },
    {
      "cell_type": "code",
      "source": [
        "imputer = KNNImputer(n_neighbors=5)\n",
        "df2 = pd.DataFrame(imputer.fit_transform(df2), columns=df2.columns)\n",
        "df2 = df2.round()\n",
        "\n",
        "df3 = df2[(df2['prix en MAD'] <= 30000) & (df2['prix en MAD'] >= 1000) &\n",
        "          (df2['surface en m²'] <= 325) & (df2['surface en m²'] >= 50) &\n",
        "          (df2['emplacementMap'] <= 48) & (df2['nombre des pièces'] <= 10) &\n",
        "          (df2['nombre des pièces'] > 1) & (df2['nombre des chambres'] > 1)]"
      ],
      "metadata": {
        "id": "HA-V9lKS3TXN"
      },
      "id": "HA-V9lKS3TXN",
      "execution_count": null,
      "outputs": []
    },
    {
      "cell_type": "markdown",
      "source": [
        "## 3-  Training the model :"
      ],
      "metadata": {
        "id": "OfMcG7o--s5G"
      },
      "id": "OfMcG7o--s5G"
    },
    {
      "cell_type": "markdown",
      "source": [
        "Split the dataset into training and testing datasets"
      ],
      "metadata": {
        "id": "ab5U9fpc-0YN"
      },
      "id": "ab5U9fpc-0YN"
    },
    {
      "cell_type": "code",
      "source": [
        "X = df3[['surface en m²', 'nombre des pièces', 'nombre des chambres', 'salle_de_bain', 'emplacementMap']]\n",
        "Y = df3['prix en MAD']\n",
        "X_train, X_test, y_train, y_test = train_test_split(X, Y, test_size=0.20, random_state=0)"
      ],
      "metadata": {
        "id": "gWtCXoyJ-6c8"
      },
      "id": "gWtCXoyJ-6c8",
      "execution_count": null,
      "outputs": []
    },
    {
      "cell_type": "markdown",
      "source": [
        "Create a pipeline for Gradient Boosting Regression with normalization"
      ],
      "metadata": {
        "id": "_s1jKtOM_Fn-"
      },
      "id": "_s1jKtOM_Fn-"
    },
    {
      "cell_type": "code",
      "source": [
        "gb_pipeline = Pipeline(steps=[\n",
        "    ('scaler', MinMaxScaler()),\n",
        "    ('poly_features', PolynomialFeatures(degree=4)),\n",
        "    ('gb_regressor', GradientBoostingRegressor(n_estimators=70))\n",
        "])"
      ],
      "metadata": {
        "id": "L88tHRxN-6Y_"
      },
      "id": "L88tHRxN-6Y_",
      "execution_count": null,
      "outputs": []
    },
    {
      "cell_type": "markdown",
      "source": [
        "Fit the model"
      ],
      "metadata": {
        "id": "nw1E8e24_uli"
      },
      "id": "nw1E8e24_uli"
    },
    {
      "cell_type": "code",
      "source": [
        "# Fit the model\n",
        "gb_model = gb_pipeline.fit(X_train, y_train)\n",
        "\n",
        "# Get predictions\n",
        "gb_predictions = gb_model.predict(X_test)"
      ],
      "metadata": {
        "id": "iyXYuffT-6UL"
      },
      "id": "iyXYuffT-6UL",
      "execution_count": null,
      "outputs": []
    },
    {
      "cell_type": "code",
      "execution_count": null,
      "id": "0f275a77-1ad7-4341-a784-a25cf74a469e",
      "metadata": {
        "id": "0f275a77-1ad7-4341-a784-a25cf74a469e",
        "outputId": "1ecd45af-49c4-4ff7-fffa-80dbcd1f5c63"
      },
      "outputs": [
        {
          "name": "stdout",
          "output_type": "stream",
          "text": [
            "Gradient Boosting MSE: 16342983.684930172\n",
            "Gradient Boosting RMSE: 4042.6456294028753\n",
            "Gradient Boosting R2: 0.5211213977911325\n"
          ]
        },
        {
          "data": {
            "image/png": "[encoded data removed]",
            "text/plain": [
              "<Figure size 640x480 with 1 Axes>"
            ]
          },
          "metadata": {},
          "output_type": "display_data"
        }
      ],
      "source": [
        "# Display metrics\n",
        "mse_gb = mean_squared_error(y_test, gb_predictions)\n",
        "print(\"Gradient Boosting MSE:\", mse_gb)\n",
        "rmse_gb = np.sqrt(mse_gb)\n",
        "print(\"Gradient Boosting RMSE:\", rmse_gb)\n",
        "r2_gb = r2_score(y_test, gb_predictions)\n",
        "print(\"Gradient Boosting R2:\", r2_gb)\n",
        "\n",
        "# Plot predicted vs actual for Gradient Boosting Regression\n",
        "plt.scatter(y_test, gb_predictions, label='Gradient Boosting Predictions')\n",
        "plt.xlabel('Actual Labels')\n",
        "plt.ylabel('Predicted Labels')\n",
        "\n",
        "# Plot the regression line\n",
        "z_gb = np.polyfit(y_test, gb_predictions, 1)\n",
        "p_gb = np.poly1d(z_gb)\n",
        "plt.plot(y_test, p_gb(y_test), color='red', label='Gradient Boosting Regression Line')\n",
        "\n",
        "plt.legend()\n",
        "plt.show()"
      ]
    },
    {
      "cell_type": "code",
      "execution_count": null,
      "id": "74f9cdf9-e0ef-4e64-b770-5bee7da796ef",
      "metadata": {
        "id": "74f9cdf9-e0ef-4e64-b770-5bee7da796ef",
        "outputId": "71cc0d95-b9aa-4330-a290-a24d902a9ca9"
      },
      "outputs": [
        {
          "data": {
            "text/plain": [
              "['gradient_boosting_model.pkl']"
            ]
          },
          "execution_count": 3,
          "metadata": {},
          "output_type": "execute_result"
        }
      ],
      "source": [
        "import joblib\n",
        "\n",
        "# Save the model\n",
        "joblib.dump(gb_model, 'gradient_boosting_model.pkl')"
      ]
    }
  ],
  "metadata": {
    "kernelspec": {
      "display_name": "Python 3 (ipykernel)",
      "language": "python",
      "name": "python3"
    },
    "language_info": {
      "codemirror_mode": {
        "name": "ipython",
        "version": 3
      },
      "file_extension": ".py",
      "mimetype": "text/x-python",
      "name": "python",
      "nbconvert_exporter": "python",
      "pygments_lexer": "ipython3",
      "version": "3.12.3"
    },
    "colab": {
      "provenance": []
    }
  },
  "nbformat": 4,
  "nbformat_minor": 5
}